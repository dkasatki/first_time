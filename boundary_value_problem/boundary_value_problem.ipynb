{
  "nbformat": 4,
  "nbformat_minor": 0,
  "metadata": {
    "colab": {
      "name": "boundary_value_problem.ipynb",
      "provenance": [],
      "collapsed_sections": []
    },
    "kernelspec": {
      "name": "python3",
      "display_name": "Python 3"
    }
  },
  "cells": [
    {
      "cell_type": "code",
      "metadata": {
        "id": "1oqYMfgMlKZN",
        "colab_type": "code",
        "colab": {}
      },
      "source": [
        "import numpy as np\n",
        "import pandas as pd\n",
        "import sympy as sp\n",
        "import matplotlib.pyplot as plt\n",
        "from mpl_toolkits.mplot3d import Axes3D\n",
        "from matplotlib import rcParams\n",
        "rcParams['figure.figsize'] = (12, 8)"
      ],
      "execution_count": 0,
      "outputs": []
    },
    {
      "cell_type": "markdown",
      "metadata": {
        "id": "u3VSnz7Jm6_3",
        "colab_type": "text"
      },
      "source": [
        "$Решить\\; краевую\\; задачу\\; вcтроенным\\; методом,\\; методом\\; стрельбы\\; и\\; сеточным\\; методом: \\\\ $\n",
        "\n",
        "\n",
        "$$y_{xx} + q(x)y_{x} - r(x)y = f(x) \\\\ $$\n",
        "\n",
        "$q(x) = x^2 \\\\ \n",
        "r(x) = x \\\\ \n",
        "f(x) = \\sqrt{x} \\\\ \n",
        "y(a = 0) = \\alpha = 0 \\\\ \n",
        "y(b = 1) = \\beta = 0 \\\\ \n",
        "$"
      ]
    },
    {
      "cell_type": "markdown",
      "metadata": {
        "id": "jPYlaGbHp6g9",
        "colab_type": "text"
      },
      "source": [
        "$ \\; $ "
      ]
    },
    {
      "cell_type": "markdown",
      "metadata": {
        "id": "QzBgXfHGp-Ih",
        "colab_type": "text"
      },
      "source": [
        "# Встроенный метод"
      ]
    },
    {
      "cell_type": "markdown",
      "metadata": {
        "id": "DgXGSish11Cd",
        "colab_type": "text"
      },
      "source": [
        "${{d^2 y} \\over {dx^2}} = f(x) - q(x){{dy} \\over {dx}} + r(x)y \\\\\n",
        "\\; \\\\\n",
        "{{dy_1} \\over {dx}} = y_2 \\\\\n",
        "{{dy_2} \\over {dx}} = f(x) - q(x)y_2 + r(x)y_1$"
      ]
    },
    {
      "cell_type": "code",
      "metadata": {
        "id": "VY6A-xi3p6JF",
        "colab_type": "code",
        "colab": {}
      },
      "source": [
        "def func(x, y):\n",
        "  q = x**2\n",
        "  r = x\n",
        "  f = np.sqrt(x)\n",
        "\n",
        "  return np.vstack((y[1], f - q * y[1] + r * y[0]))"
      ],
      "execution_count": 0,
      "outputs": []
    },
    {
      "cell_type": "code",
      "metadata": {
        "id": "pSGBPxFklk7A",
        "colab_type": "code",
        "colab": {}
      },
      "source": [
        "def boundary_conditions(ya, yb):\n",
        "  return np.array([ya[0], yb[0]])"
      ],
      "execution_count": 0,
      "outputs": []
    },
    {
      "cell_type": "code",
      "metadata": {
        "id": "fg8mOBQYxcEc",
        "colab_type": "code",
        "colab": {}
      },
      "source": [
        "x = np.linspace(0, 1, 12)"
      ],
      "execution_count": 0,
      "outputs": []
    },
    {
      "cell_type": "code",
      "metadata": {
        "id": "b3qNBt5MxkWK",
        "colab_type": "code",
        "colab": {}
      },
      "source": [
        "y_1 = np.zeros((2, x.size))"
      ],
      "execution_count": 0,
      "outputs": []
    },
    {
      "cell_type": "code",
      "metadata": {
        "id": "gbRjbBhtN0MF",
        "colab_type": "code",
        "outputId": "f2078ffd-59ce-4322-b2cb-10cc59f56a18",
        "colab": {
          "base_uri": "https://localhost:8080/",
          "height": 51
        }
      },
      "source": [
        "y_1"
      ],
      "execution_count": 6,
      "outputs": [
        {
          "output_type": "execute_result",
          "data": {
            "text/plain": [
              "array([[0., 0., 0., 0., 0., 0., 0., 0., 0., 0., 0., 0.],\n",
              "       [0., 0., 0., 0., 0., 0., 0., 0., 0., 0., 0., 0.]])"
            ]
          },
          "metadata": {
            "tags": []
          },
          "execution_count": 6
        }
      ]
    },
    {
      "cell_type": "code",
      "metadata": {
        "id": "OVj1XbcmyDuU",
        "colab_type": "code",
        "colab": {}
      },
      "source": [
        "from scipy.integrate import solve_bvp"
      ],
      "execution_count": 0,
      "outputs": []
    },
    {
      "cell_type": "code",
      "metadata": {
        "id": "eVfaT2V_yIbM",
        "colab_type": "code",
        "colab": {}
      },
      "source": [
        "res_a = solve_bvp(func, boundary_conditions, x, y_1)"
      ],
      "execution_count": 0,
      "outputs": []
    },
    {
      "cell_type": "code",
      "metadata": {
        "id": "21mEEbiuybHp",
        "colab_type": "code",
        "outputId": "d2a28ca9-f55e-4813-bbdc-730fc06ee596",
        "colab": {
          "base_uri": "https://localhost:8080/",
          "height": 279
        }
      },
      "source": [
        "x_plot = np.linspace(0, 1, 10)\n",
        "y_plot_a = res_a.sol(x_plot)[0]\n",
        "plt.plot(x_plot, y_plot_a, label='y_a', linewidth = 6, color = 'black')\n",
        "plt.legend()\n",
        "plt.xlabel(\"x\")\n",
        "plt.ylabel(\"y\")\n",
        "plt.show()"
      ],
      "execution_count": 9,
      "outputs": [
        {
          "output_type": "display_data",
          "data": {
            "image/png": "[encoded data removed]",
            "text/plain": [
              "<Figure size 432x288 with 1 Axes>"
            ]
          },
          "metadata": {
            "tags": [],
            "needs_background": "light"
          }
        }
      ]
    },
    {
      "cell_type": "markdown",
      "metadata": {
        "id": "tb21YEJL6VQB",
        "colab_type": "text"
      },
      "source": [
        "$ \\; $"
      ]
    },
    {
      "cell_type": "markdown",
      "metadata": {
        "id": "cZO6sMkl6R6v",
        "colab_type": "text"
      },
      "source": [
        "# Метод стрельбы"
      ]
    },
    {
      "cell_type": "markdown",
      "metadata": {
        "id": "Uxj8os2S6Ymj",
        "colab_type": "text"
      },
      "source": [
        "$y(a) = \\alpha \\\\\n",
        "y(b)  = \\beta \\\\\n",
        "y'(a) = \\widetilde \\gamma \\\\\n",
        "y'' + qy' - ry = f \\\\\n",
        "\\\\\n",
        "\\; \\\\\n",
        "y(x, \\widetilde \\gamma), \\; y(b) = \\beta, \\; y(b, \\widetilde \\gamma) = \\beta \\\\\n",
        "\\; \\\\\n",
        "y(b, \\widetilde \\gamma_1) > \\beta \\\\\n",
        "y(b, \\widetilde \\gamma_2) < \\beta \\\\ \n",
        "y(b, \\widetilde \\gamma_*) \\approx \\beta \\\\ \n",
        "$"
      ]
    },
    {
      "cell_type": "code",
      "metadata": {
        "id": "vbPREf4lDiwk",
        "colab_type": "code",
        "colab": {}
      },
      "source": [
        "def f_cauchy(y, x):\n",
        "  q = x**2\n",
        "  r = x\n",
        "  f = np.sqrt(x)\n",
        "\n",
        "  return (y[1], f - q * y[1] + r * y[0])"
      ],
      "execution_count": 0,
      "outputs": []
    },
    {
      "cell_type": "code",
      "metadata": {
        "id": "vwzh0dq4Lou6",
        "colab_type": "code",
        "colab": {}
      },
      "source": [
        "from scipy.integrate import ode, odeint"
      ],
      "execution_count": 0,
      "outputs": []
    },
    {
      "cell_type": "code",
      "metadata": {
        "id": "32Q3DKlnHuSz",
        "colab_type": "code",
        "outputId": "a213f36e-6099-414b-af4d-d9da3bc6c142",
        "colab": {
          "base_uri": "https://localhost:8080/",
          "height": 435
        }
      },
      "source": [
        "gamma = -0.252\n",
        "y_a = [0, gamma]\n",
        "x_a = np.linspace(0, 1, 10)\n",
        "y_cauchy_a = odeint(f_cauchy, y_a, x_a)\n",
        "# plt.plot(x_plot, y_plot_a, label='y_a', linewidth = 6, color = 'black')\n",
        "plt.plot(x_a, y_cauchy_a[:, 0], label='y_b', linestyle='--', linewidth = 3, color = 'red')\n",
        "print(y_cauchy_a)"
      ],
      "execution_count": 12,
      "outputs": [
        {
          "output_type": "stream",
          "text": [
            "[[ 0.         -0.252     ]\n",
            " [-0.0269027  -0.22731318]\n",
            " [-0.04979633 -0.18226436]\n",
            " [-0.06693163 -0.12433096]\n",
            " [-0.0770691  -0.05675934]\n",
            " [-0.0792837   0.01786284]\n",
            " [-0.07293208  0.09700318]\n",
            " [-0.05765785  0.17801863]\n",
            " [-0.03340456  0.25816528]\n",
            " [-0.00042135  0.33471204]]\n"
          ],
          "name": "stdout"
        },
        {
          "output_type": "display_data",
          "data": {
            "image/png": "[encoded data removed]",
            "text/plain": [
              "<Figure size 432x288 with 1 Axes>"
            ]
          },
          "metadata": {
            "tags": [],
            "needs_background": "light"
          }
        }
      ]
    },
    {
      "cell_type": "code",
      "metadata": {
        "id": "9HejoVuWOglk",
        "colab_type": "code",
        "colab": {}
      },
      "source": [
        "x = np.linspace(0, 1, 12)\n",
        "G = np.zeros(1000)\n",
        "D = np.zeros(1000)\n",
        "gam = -0.2\n",
        "for i in range(1000):\n",
        "  y_a = [0, gam]\n",
        "  y_cauchy_a1 = odeint(f_cauchy, y_a, x)\n",
        "  G[i] = gam\n",
        "  D[i] = y_cauchy_a1[-1, 0]\n",
        "  gam -= 0.01\n",
        "  "
      ],
      "execution_count": 0,
      "outputs": []
    },
    {
      "cell_type": "code",
      "metadata": {
        "id": "AxuuYe0gmKBA",
        "colab_type": "code",
        "outputId": "4a732792-2179-4dd5-f985-8e0c75fde0b7",
        "colab": {
          "base_uri": "https://localhost:8080/",
          "height": 282
        }
      },
      "source": [
        "plt.plot(G, D, label='G_D', linestyle='--', linewidth = 3, color = 'red')"
      ],
      "execution_count": 14,
      "outputs": [
        {
          "output_type": "execute_result",
          "data": {
            "text/plain": [
              "[<matplotlib.lines.Line2D at 0x7f8e049833c8>]"
            ]
          },
          "metadata": {
            "tags": []
          },
          "execution_count": 14
        },
        {
          "output_type": "display_data",
          "data": {
            "image/png": "[encoded data removed]",
            "text/plain": [
              "<Figure size 432x288 with 1 Axes>"
            ]
          },
          "metadata": {
            "tags": [],
            "needs_background": "light"
          }
        }
      ]
    },
    {
      "cell_type": "markdown",
      "metadata": {
        "id": "EwlGbpK3QHGk",
        "colab_type": "text"
      },
      "source": [
        "# Сеточный метод"
      ]
    },
    {
      "cell_type": "markdown",
      "metadata": {
        "id": "QFmS1I0MQVjl",
        "colab_type": "text"
      },
      "source": [
        "$y'' + qy' - ry = f$\n",
        "\n",
        "${{y_{i+1} - 2y_{i} + y_{i-1}} \\over {h^2}} + q_{i} \\cdot {{y_{i+1} -y_{i-1}} \\over {2h}} - r_{i}y_{i} = f_{i} \\\\ \n",
        "y_{0} = \\alpha \\\\\n",
        "y_{N} = \\beta$"
      ]
    },
    {
      "cell_type": "markdown",
      "metadata": {
        "id": "HSGJKaQNxsdf",
        "colab_type": "text"
      },
      "source": [
        "$$(2 - q_{i}h)y_{i-1} - (4 + 2r_{i}h^2)y_{i} + (2 +q_{i}h)y_{i+1} = 2f_{i}h^2$$"
      ]
    },
    {
      "cell_type": "markdown",
      "metadata": {
        "id": "VPup0dGoyVia",
        "colab_type": "text"
      },
      "source": [
        "$$A_{n,n} =\n",
        " \\begin{pmatrix}\n",
        "  y_{0} & y_{1} & y_{2} & y_{3} &  \\cdots & y_{n} \\\\\n",
        "  - & - & - & - &  - & - \\\\\n",
        "  1 & 0 & 0 & 0 &  \\cdots & 0 \\\\\n",
        "  2-q_{1}h & -(4 + 2r_{1}h^2) & 2 + q_{1}h & 0 & \\cdots & 0 \\\\\n",
        "  0 & 2-q_{2}h & -(4 + 2r_{2}h^2) & 2 + q_{2}h & \\cdots & 0 \\\\\n",
        "  \\vdots  & \\vdots  & \\vdots  & \\vdots & \\ddots & \\vdots \\\\\n",
        "  0 & 0 & 0 & 0 &  \\cdots & 1 \\\\\n",
        " \\end{pmatrix}$$"
      ]
    },
    {
      "cell_type": "code",
      "metadata": {
        "id": "K6NhLn1ZTZ7S",
        "colab_type": "code",
        "colab": {}
      },
      "source": [
        "a = 0\n",
        "b = 1\n",
        "\n",
        "alpha = 0\n",
        "beta = 0\n",
        "\n",
        "n = 12\n",
        "h = (b - a) / n\n",
        "x = np.arange(a, b + h, h)\n",
        "\n",
        "def q(x):\n",
        "  return x**2\n",
        "\n",
        "def r(x):\n",
        "  return x\n",
        "\n",
        "def f(x):\n",
        "  return np.sqrt(x)\n"
      ],
      "execution_count": 0,
      "outputs": []
    },
    {
      "cell_type": "code",
      "metadata": {
        "id": "lpq8_PmMV3jK",
        "colab_type": "code",
        "colab": {}
      },
      "source": [
        "a = np.zeros([n + 1, n + 1])\n",
        "a[0, 0] = 1\n",
        "a[-1, -1] = 1\n",
        "\n",
        "b = np.zeros(n + 1)\n",
        "b[0] = alpha\n",
        "b[-1] = beta\n",
        "\n",
        "for i in range(1, n):\n",
        "  a[i][i - 1] = 2 - q(x[i]) * h\n",
        "  a[i][i] = -(4 + r(x[i]) * 2 * h**2)\n",
        "  a[i][i + 1] = q(x[i]) * h + 2\n",
        "  b[i] = f(x[i]) * 2  * h**2"
      ],
      "execution_count": 0,
      "outputs": []
    },
    {
      "cell_type": "code",
      "metadata": {
        "id": "K3TM6YSzkKcr",
        "colab_type": "code",
        "outputId": "4b0e19e1-f8d1-4c01-ad06-99d723994bc3",
        "colab": {
          "base_uri": "https://localhost:8080/",
          "height": 34
        }
      },
      "source": [
        "x.size, a.size, b.size"
      ],
      "execution_count": 17,
      "outputs": [
        {
          "output_type": "execute_result",
          "data": {
            "text/plain": [
              "(13, 169, 13)"
            ]
          },
          "metadata": {
            "tags": []
          },
          "execution_count": 17
        }
      ]
    },
    {
      "cell_type": "code",
      "metadata": {
        "id": "36i0yitsidBY",
        "colab_type": "code",
        "colab": {}
      },
      "source": [
        "y = np.linalg.solve(a, b)"
      ],
      "execution_count": 0,
      "outputs": []
    },
    {
      "cell_type": "code",
      "metadata": {
        "id": "sUTDG6DBjs-e",
        "colab_type": "code",
        "outputId": "371c5b7e-f047-45fb-c247-03771db58568",
        "colab": {
          "base_uri": "https://localhost:8080/",
          "height": 282
        }
      },
      "source": [
        "plt.plot(x_plot, y_plot_a, linewidth = 7, color = 'black', label='Встроенный')\n",
        "plt.plot(x_a, y_cauchy_a[:, 0], linewidth = 4, color = 'yellow', label='Престрелка')\n",
        "plt.plot(x, y, linewidth = 3, color = 'red', linestyle='--', label='Сеточный')\n",
        "plt.legend()"
      ],
      "execution_count": 19,
      "outputs": [
        {
          "output_type": "execute_result",
          "data": {
            "text/plain": [
              "<matplotlib.legend.Legend at 0x7f8e048f7128>"
            ]
          },
          "metadata": {
            "tags": []
          },
          "execution_count": 19
        },
        {
          "output_type": "display_data",
          "data": {
            "image/png": "[encoded data removed]",
            "text/plain": [
              "<Figure size 432x288 with 1 Axes>"
            ]
          },
          "metadata": {
            "tags": [],
            "needs_background": "light"
          }
        }
      ]
    },
    {
      "cell_type": "code",
      "metadata": {
        "id": "Papf88MtkpWB",
        "colab_type": "code",
        "colab": {}
      },
      "source": [
        ""
      ],
      "execution_count": 0,
      "outputs": []
    }
  ]
}