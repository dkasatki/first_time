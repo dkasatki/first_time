{
  "nbformat": 4,
  "nbformat_minor": 0,
  "metadata": {
    "colab": {
      "name": "approximation.ipynb",
      "provenance": [],
      "collapsed_sections": []
    },
    "kernelspec": {
      "name": "python3",
      "display_name": "Python 3"
    }
  },
  "cells": [
    {
      "cell_type": "markdown",
      "metadata": {
        "id": "fAUedXsYJvRE",
        "colab_type": "text"
      },
      "source": [
        "# Задание на аппроксимацию\n"
      ]
    },
    {
      "cell_type": "markdown",
      "metadata": {
        "id": "gKb-SAuoXRRD",
        "colab_type": "text"
      },
      "source": [
        "$Необходимо\\; восстановить\\; коэффициенты\\; функции\\; f(x),\\; зная\\; её\\; значения\\; на\\; некотором\\; наборе\\; точек.$\n",
        "\n",
        "$При\\; этом\\; известно,\\; что$\n",
        "\n",
        "$$f(x) = [(a + \\varepsilon_a) \\cdot sin(x) + (b + \\varepsilon_b) \\cdot ln(x)]^2 + (c + \\varepsilon_c) \\cdot x^2$$\n",
        "\n",
        "$где\\; \\varepsilon_a,\\; \\varepsilon_b,\\; \\varepsilon_c\\;  —\\; случайные\\; величины,\\; которые\\; принимают\\; значения\\; из\\; отрезка\\; [–0.001, 0.001]; a,\\; b,\\; c\\; —\\; неизвестные\\; положительные\\; константы,\\; которые\\; требуется\\; найти\\; (абсолютная\\; ошибка\\; не\\; должна\\; превышать\\; 10^{-2}).$"
      ]
    },
    {
      "cell_type": "code",
      "metadata": {
        "id": "NZn-mqQXiv26",
        "colab_type": "code",
        "colab": {}
      },
      "source": [
        "import numpy as np\n",
        "import pandas as pd\n",
        "import sympy as sp\n",
        "from scipy.optimize import curve_fit\n",
        "import matplotlib.pyplot as plt\n",
        "from matplotlib import rcParams\n",
        "rcParams['figure.figsize'] = (12, 8)"
      ],
      "execution_count": 0,
      "outputs": []
    },
    {
      "cell_type": "code",
      "metadata": {
        "id": "RnBjtT9jjHPa",
        "colab_type": "code",
        "colab": {
          "base_uri": "https://localhost:8080/",
          "height": 34
        },
        "outputId": "512bbda3-f0fb-44ba-c6ab-a993c3371e6c"
      },
      "source": [
        "data = pd.read_csv('data.csv')\n",
        "data.columns"
      ],
      "execution_count": 837,
      "outputs": [
        {
          "output_type": "execute_result",
          "data": {
            "text/plain": [
              "Index(['9.48153782478', '394.853786783'], dtype='object')"
            ]
          },
          "metadata": {
            "tags": []
          },
          "execution_count": 837
        }
      ]
    },
    {
      "cell_type": "code",
      "metadata": {
        "id": "AbQTSQReIMb-",
        "colab_type": "code",
        "colab": {}
      },
      "source": [
        "x = data['9.48153782478']\n",
        "y = data['394.853786783']"
      ],
      "execution_count": 0,
      "outputs": []
    },
    {
      "cell_type": "code",
      "metadata": {
        "id": "4ZHI19HEHpcB",
        "colab_type": "code",
        "colab": {}
      },
      "source": [
        "sin_in_2 = np.sin(x)**2\n",
        "sin_ln = np.log(x) * np.sin(x) * 2\n",
        "ln_in_2 = np.log(x)**2\n",
        "x_in_2 = x**2"
      ],
      "execution_count": 0,
      "outputs": []
    },
    {
      "cell_type": "code",
      "metadata": {
        "id": "A4ovuesDDIVQ",
        "colab_type": "code",
        "colab": {
          "base_uri": "https://localhost:8080/",
          "height": 419
        },
        "outputId": "f04d5934-81f7-444b-a838-e3598e376f22"
      },
      "source": [
        "X = pd.DataFrame({'sin(x)^2': sin_in_2, '2*sin(x)*ln(x)': sin_ln,\n",
        "                   'log(x)^2': ln_in_2, 'x^2': x_in_2})\n",
        "X"
      ],
      "execution_count": 840,
      "outputs": [
        {
          "output_type": "execute_result",
          "data": {
            "text/html": [
              "<div>\n",
              "<style scoped>\n",
              "    .dataframe tbody tr th:only-of-type {\n",
              "        vertical-align: middle;\n",
              "    }\n",
              "\n",
              "    .dataframe tbody tr th {\n",
              "        vertical-align: top;\n",
              "    }\n",
              "\n",
              "    .dataframe thead th {\n",
              "        text-align: right;\n",
              "    }\n",
              "</style>\n",
              "<table border=\"1\" class=\"dataframe\">\n",
              "  <thead>\n",
              "    <tr style=\"text-align: right;\">\n",
              "      <th></th>\n",
              "      <th>sin(x)^2</th>\n",
              "      <th>2*sin(x)*ln(x)</th>\n",
              "      <th>log(x)^2</th>\n",
              "      <th>x^2</th>\n",
              "    </tr>\n",
              "  </thead>\n",
              "  <tbody>\n",
              "    <tr>\n",
              "      <th>0</th>\n",
              "      <td>0.314505</td>\n",
              "      <td>2.162932</td>\n",
              "      <td>3.718755</td>\n",
              "      <td>47.314402</td>\n",
              "    </tr>\n",
              "    <tr>\n",
              "      <th>1</th>\n",
              "      <td>0.000138</td>\n",
              "      <td>-0.052731</td>\n",
              "      <td>5.038174</td>\n",
              "      <td>89.047994</td>\n",
              "    </tr>\n",
              "    <tr>\n",
              "      <th>2</th>\n",
              "      <td>0.174616</td>\n",
              "      <td>-1.064167</td>\n",
              "      <td>1.621343</td>\n",
              "      <td>12.764139</td>\n",
              "    </tr>\n",
              "    <tr>\n",
              "      <th>3</th>\n",
              "      <td>0.777513</td>\n",
              "      <td>0.135063</td>\n",
              "      <td>0.005866</td>\n",
              "      <td>1.165527</td>\n",
              "    </tr>\n",
              "    <tr>\n",
              "      <th>4</th>\n",
              "      <td>0.003937</td>\n",
              "      <td>-0.282345</td>\n",
              "      <td>5.062418</td>\n",
              "      <td>90.013851</td>\n",
              "    </tr>\n",
              "    <tr>\n",
              "      <th>...</th>\n",
              "      <td>...</td>\n",
              "      <td>...</td>\n",
              "      <td>...</td>\n",
              "      <td>...</td>\n",
              "    </tr>\n",
              "    <tr>\n",
              "      <th>994</th>\n",
              "      <td>0.425565</td>\n",
              "      <td>2.824613</td>\n",
              "      <td>4.686972</td>\n",
              "      <td>75.935416</td>\n",
              "    </tr>\n",
              "    <tr>\n",
              "      <th>995</th>\n",
              "      <td>0.358136</td>\n",
              "      <td>-1.592530</td>\n",
              "      <td>1.770383</td>\n",
              "      <td>14.312232</td>\n",
              "    </tr>\n",
              "    <tr>\n",
              "      <th>996</th>\n",
              "      <td>0.099081</td>\n",
              "      <td>1.390515</td>\n",
              "      <td>4.878690</td>\n",
              "      <td>82.893068</td>\n",
              "    </tr>\n",
              "    <tr>\n",
              "      <th>997</th>\n",
              "      <td>0.978644</td>\n",
              "      <td>1.070079</td>\n",
              "      <td>0.292514</td>\n",
              "      <td>2.949665</td>\n",
              "    </tr>\n",
              "    <tr>\n",
              "      <th>998</th>\n",
              "      <td>0.712655</td>\n",
              "      <td>3.353561</td>\n",
              "      <td>3.945235</td>\n",
              "      <td>53.118385</td>\n",
              "    </tr>\n",
              "  </tbody>\n",
              "</table>\n",
              "<p>999 rows × 4 columns</p>\n",
              "</div>"
            ],
            "text/plain": [
              "     sin(x)^2  2*sin(x)*ln(x)  log(x)^2        x^2\n",
              "0    0.314505        2.162932  3.718755  47.314402\n",
              "1    0.000138       -0.052731  5.038174  89.047994\n",
              "2    0.174616       -1.064167  1.621343  12.764139\n",
              "3    0.777513        0.135063  0.005866   1.165527\n",
              "4    0.003937       -0.282345  5.062418  90.013851\n",
              "..        ...             ...       ...        ...\n",
              "994  0.425565        2.824613  4.686972  75.935416\n",
              "995  0.358136       -1.592530  1.770383  14.312232\n",
              "996  0.099081        1.390515  4.878690  82.893068\n",
              "997  0.978644        1.070079  0.292514   2.949665\n",
              "998  0.712655        3.353561  3.945235  53.118385\n",
              "\n",
              "[999 rows x 4 columns]"
            ]
          },
          "metadata": {
            "tags": []
          },
          "execution_count": 840
        }
      ]
    },
    {
      "cell_type": "code",
      "metadata": {
        "id": "3vRS01l8CEXU",
        "colab_type": "code",
        "colab": {
          "base_uri": "https://localhost:8080/",
          "height": 85
        },
        "outputId": "80a28624-27f0-4a73-9c02-0d7ba29da1af"
      },
      "source": [
        "Xtrans_X = np.dot(X.transpose(), X)\n",
        "Xtrans_X"
      ],
      "execution_count": 841,
      "outputs": [
        {
          "output_type": "execute_result",
          "data": {
            "text/plain": [
              "array([[3.46088540e+02, 2.29941917e+02, 1.08105602e+03, 1.35819313e+04],\n",
              "       [2.29941917e+02, 4.32422408e+03, 1.55091711e+03, 2.93220062e+04],\n",
              "       [1.08105602e+03, 1.55091711e+03, 1.00358494e+04, 1.19322078e+05],\n",
              "       [1.35819313e+04, 2.93220062e+04, 1.19322078e+05, 1.75825917e+06]])"
            ]
          },
          "metadata": {
            "tags": []
          },
          "execution_count": 841
        }
      ]
    },
    {
      "cell_type": "code",
      "metadata": {
        "id": "xBzNasB1CZm1",
        "colab_type": "code",
        "colab": {
          "base_uri": "https://localhost:8080/",
          "height": 153
        },
        "outputId": "4718877b-4a2d-41a1-a06e-a3fe5fa04c67"
      },
      "source": [
        "lam = 0\n",
        "X_inv = np.linalg.inv(Xtrans_X + lam * np.eye(len(Xtrans_X)))\n",
        "X_inv"
      ],
      "execution_count": 842,
      "outputs": [
        {
          "output_type": "execute_result",
          "data": {
            "text/plain": [
              "array([[ 4.39258978e-03, -4.64769190e-05, -3.71630726e-04,\n",
              "        -7.93586389e-06],\n",
              "       [-4.64769190e-05,  2.68171807e-04,  6.45590629e-05,\n",
              "        -8.49443069e-06],\n",
              "       [-3.71630726e-04,  6.45590629e-05,  5.61114289e-04,\n",
              "        -3.62852431e-05],\n",
              "       [-7.93586389e-06, -8.49443069e-06, -3.62852431e-05,\n",
              "         3.23415844e-06]])"
            ]
          },
          "metadata": {
            "tags": []
          },
          "execution_count": 842
        }
      ]
    },
    {
      "cell_type": "code",
      "metadata": {
        "id": "3ipsCwh3CmQe",
        "colab_type": "code",
        "colab": {
          "base_uri": "https://localhost:8080/",
          "height": 34
        },
        "outputId": "6c191469-9d87-4fc5-e752-ab32e7e9cc8f"
      },
      "source": [
        "w = np.dot(np.dot(X_inv, X.transpose()), y)\n",
        "w"
      ],
      "execution_count": 843,
      "outputs": [
        {
          "output_type": "execute_result",
          "data": {
            "text/plain": [
              "array([9.86990558, 8.53994127, 7.3897565 , 3.99995487])"
            ]
          },
          "metadata": {
            "tags": []
          },
          "execution_count": 843
        }
      ]
    },
    {
      "cell_type": "code",
      "metadata": {
        "id": "Som8KbKpozZ9",
        "colab_type": "code",
        "colab": {}
      },
      "source": [
        "# (b - a) * random_sample() + a\n",
        "eps_a = 0.002 * np.random.random_sample() + 0.001\n",
        "eps_b = 0.002 * np.random.random_sample() + 0.001\n",
        "eps_c = 0.002 * np.random.random_sample() + 0.001"
      ],
      "execution_count": 0,
      "outputs": []
    },
    {
      "cell_type": "code",
      "metadata": {
        "id": "vcXMN9g9nZsL",
        "colab_type": "code",
        "colab": {
          "base_uri": "https://localhost:8080/",
          "height": 34
        },
        "outputId": "2d1f413d-1f59-4d8d-c51a-562bb3740024"
      },
      "source": [
        "qa = sp.symbols('qa')\n",
        "sp.solve((qa + eps_a)**2 - w[0], qa)"
      ],
      "execution_count": 845,
      "outputs": [
        {
          "output_type": "execute_result",
          "data": {
            "text/plain": [
              "[-3.14407197489476, 3.13920920105223]"
            ]
          },
          "metadata": {
            "tags": []
          },
          "execution_count": 845
        }
      ]
    },
    {
      "cell_type": "code",
      "metadata": {
        "id": "3ZEwKMD3oVB9",
        "colab_type": "code",
        "colab": {
          "base_uri": "https://localhost:8080/",
          "height": 34
        },
        "outputId": "92110918-ff0c-4fcb-e32a-c53948ea4372"
      },
      "source": [
        "qb = sp.symbols('qb')\n",
        "sp.solve((qb + eps_b)**2 - w[2], qb)"
      ],
      "execution_count": 846,
      "outputs": [
        {
          "output_type": "execute_result",
          "data": {
            "text/plain": [
              "[-2.71945515752726, 2.71736615460384]"
            ]
          },
          "metadata": {
            "tags": []
          },
          "execution_count": 846
        }
      ]
    },
    {
      "cell_type": "code",
      "metadata": {
        "id": "dv7PpjcZooWK",
        "colab_type": "code",
        "colab": {
          "base_uri": "https://localhost:8080/",
          "height": 34
        },
        "outputId": "09048104-6384-4793-f63a-b1e325f20eb2"
      },
      "source": [
        "qc = sp.symbols('qc')\n",
        "sp.solve((qc + eps_c) - w[3], qc)"
      ],
      "execution_count": 847,
      "outputs": [
        {
          "output_type": "execute_result",
          "data": {
            "text/plain": [
              "[3.99766454139163]"
            ]
          },
          "metadata": {
            "tags": []
          },
          "execution_count": 847
        }
      ]
    },
    {
      "cell_type": "code",
      "metadata": {
        "id": "CgfciElosm5L",
        "colab_type": "code",
        "colab": {}
      },
      "source": [
        "w_a = [3.13925230425691, 2.71634764430228, 3.99695883624438]"
      ],
      "execution_count": 0,
      "outputs": []
    },
    {
      "cell_type": "code",
      "metadata": {
        "id": "FN4PkKr3pDkJ",
        "colab_type": "code",
        "colab": {
          "base_uri": "https://localhost:8080/",
          "height": 34
        },
        "outputId": "bd036e99-3f92-439a-c6d8-58823c1123d1"
      },
      "source": [
        "# a = w_a[0]\n",
        "# b = w_a[1]\n",
        "# c = w_a[2]\n",
        "\n",
        "# a = 3.14\n",
        "# b = 2.72\n",
        "# c = 4 \n",
        "\n",
        "a = np.pi\n",
        "b = np.e\n",
        "c = 4\n",
        "\n",
        "# a = np.sqrt(w[0])\n",
        "# b = np.sqrt(w[2])\n",
        "# c = w[3]\n",
        "\n",
        "a, a * b, b, c"
      ],
      "execution_count": 849,
      "outputs": [
        {
          "output_type": "execute_result",
          "data": {
            "text/plain": [
              "(3.141592653589793, 8.539734222673566, 2.718281828459045, 4)"
            ]
          },
          "metadata": {
            "tags": []
          },
          "execution_count": 849
        }
      ]
    },
    {
      "cell_type": "code",
      "metadata": {
        "id": "gWrRe3HwDjqg",
        "colab_type": "code",
        "colab": {
          "base_uri": "https://localhost:8080/",
          "height": 500
        },
        "outputId": "47fdacb0-e57e-4e78-94d8-5d796b02f7b9"
      },
      "source": [
        "x_new = np.linspace(0, 10, len(x))\n",
        "# f = ((a - eps_a) * np.sin(x) + (b - eps_b) * np.log(x))**2 + (c - eps_c) * x**2\n",
        "f = (a * np.sin(x) + b * np.log(x))**2 + c * x**2\n",
        "plt.plot(x, y, color='red', marker ='o', markersize=6, linestyle ='', label='Data_from_file')\n",
        "plt.plot(x, f, color='blue', marker='*', markersize=2, linestyle='', label='Approximate_data')\n",
        "plt.legend()"
      ],
      "execution_count": 850,
      "outputs": [
        {
          "output_type": "execute_result",
          "data": {
            "text/plain": [
              "<matplotlib.legend.Legend at 0x7fd4a0045b00>"
            ]
          },
          "metadata": {
            "tags": []
          },
          "execution_count": 850
        },
        {
          "output_type": "display_data",
          "data": {
            "image/png": "[encoded data removed]",
            "text/plain": [
              "<Figure size 864x576 with 1 Axes>"
            ]
          },
          "metadata": {
            "tags": []
          }
        }
      ]
    },
    {
      "cell_type": "code",
      "metadata": {
        "id": "zJZYNVrAEBB5",
        "colab_type": "code",
        "colab": {}
      },
      "source": [
        "z = np.zeros_like(y)\n",
        "W = np.eye(len(y))\n",
        "for i in range(len(y)):\n",
        "  z[i] = (f[i] - y[i])**2\n",
        "  W[i][i] = 1 / z[i]\n",
        "\n",
        "\n"
      ],
      "execution_count": 0,
      "outputs": []
    },
    {
      "cell_type": "code",
      "metadata": {
        "id": "h9PDLklXODZ8",
        "colab_type": "code",
        "colab": {
          "base_uri": "https://localhost:8080/",
          "height": 517
        },
        "outputId": "ccaa2966-4db8-4ab1-ff03-848bfd5a5080"
      },
      "source": [
        "plt.plot(x, z, color='orange', marker ='o', markersize=6, linestyle ='', label='')\n",
        "plt.legend()"
      ],
      "execution_count": 852,
      "outputs": [
        {
          "output_type": "stream",
          "text": [
            "No handles with labels found to put in legend.\n"
          ],
          "name": "stderr"
        },
        {
          "output_type": "execute_result",
          "data": {
            "text/plain": [
              "<matplotlib.legend.Legend at 0x7fd4a0051da0>"
            ]
          },
          "metadata": {
            "tags": []
          },
          "execution_count": 852
        },
        {
          "output_type": "display_data",
          "data": {
            "image/png": "[encoded data removed]",
            "text/plain": [
              "<Figure size 864x576 with 1 Axes>"
            ]
          },
          "metadata": {
            "tags": []
          }
        }
      ]
    },
    {
      "cell_type": "code",
      "metadata": {
        "id": "NGZtzvOEPPxa",
        "colab_type": "code",
        "colab": {}
      },
      "source": [
        "X_new = pd.DataFrame({'sin(x)^2': sin_in_2, '2*sin(x)*ln(x)': sin_ln,\n",
        "                   'log(x)^2': ln_in_2, 'x^2': x_in_2})"
      ],
      "execution_count": 0,
      "outputs": []
    },
    {
      "cell_type": "code",
      "metadata": {
        "id": "CAUDHWjAcvmZ",
        "colab_type": "code",
        "colab": {
          "base_uri": "https://localhost:8080/",
          "height": 34
        },
        "outputId": "93cf5921-388d-42ac-84ee-971442cc35a0"
      },
      "source": [
        "lam_new = 1\n",
        "Xt_W = np.dot(X_new.transpose(), W**2)\n",
        "Xt_W_X = np.dot(Xt_W, X_new)\n",
        "Xt_W_X_inv = np.linalg.inv(Xt_W_X + lam_new * np.eye(len(Xt_W_X)))\n",
        "Xt_W_X_inv_Xt = np.dot(Xt_W_X_inv, X_new.transpose())\n",
        "Xt_W_X_inv_Xt_W = np.dot(Xt_W_X_inv_Xt, W**2)\n",
        "omega = np.dot(Xt_W_x_inv_Xt_W, y)\n",
        "omega"
      ],
      "execution_count": 854,
      "outputs": [
        {
          "output_type": "execute_result",
          "data": {
            "text/plain": [
              "array([9.74958928, 8.48826328, 7.39063442, 4.00086356])"
            ]
          },
          "metadata": {
            "tags": []
          },
          "execution_count": 854
        }
      ]
    },
    {
      "cell_type": "code",
      "metadata": {
        "id": "V4Orbui-dHNC",
        "colab_type": "code",
        "colab": {
          "base_uri": "https://localhost:8080/",
          "height": 34
        },
        "outputId": "c98d9fc5-22fc-4b10-c493-db686118c3da"
      },
      "source": [
        "a_new = np.sqrt(omega[0])\n",
        "b_new = np.sqrt(omega[2])\n",
        "c_new = omega[3]\n",
        "a_new, a_new * b_new, b_new, c_new"
      ],
      "execution_count": 855,
      "outputs": [
        {
          "output_type": "execute_result",
          "data": {
            "text/plain": [
              "(3.122433230113751, 8.4885599516024, 2.718572128215904, 4.000863557195273)"
            ]
          },
          "metadata": {
            "tags": []
          },
          "execution_count": 855
        }
      ]
    },
    {
      "cell_type": "code",
      "metadata": {
        "id": "SO5uVGTFdbLL",
        "colab_type": "code",
        "colab": {
          "base_uri": "https://localhost:8080/",
          "height": 500
        },
        "outputId": "990624db-7c6d-4752-ec98-017b919b1fad"
      },
      "source": [
        "x_new = np.linspace(0, 10, len(x))\n",
        "f_new = (a_new * np.sin(x) + b_new * np.log(x))**2 + c_new * x**2\n",
        "plt.plot(x, y, color='red', marker ='o', markersize=6, linestyle ='', label='Data_from_file')\n",
        "plt.plot(x, f_new, color='blue', marker='*', markersize=2, linestyle='', label='Approximate_data')\n",
        "plt.legend()"
      ],
      "execution_count": 856,
      "outputs": [
        {
          "output_type": "execute_result",
          "data": {
            "text/plain": [
              "<matplotlib.legend.Legend at 0x7fd49ff934e0>"
            ]
          },
          "metadata": {
            "tags": []
          },
          "execution_count": 856
        },
        {
          "output_type": "display_data",
          "data": {
            "image/png": "[encoded data removed]",
            "text/plain": [
              "<Figure size 864x576 with 1 Axes>"
            ]
          },
          "metadata": {
            "tags": []
          }
        }
      ]
    },
    {
      "cell_type": "code",
      "metadata": {
        "id": "w5mfMUxEg7_d",
        "colab_type": "code",
        "colab": {
          "base_uri": "https://localhost:8080/",
          "height": 517
        },
        "outputId": "2574a2be-948c-43ff-844f-0350ab8480dd"
      },
      "source": [
        "z_new = np.zeros_like(y)\n",
        "for i in range(len(y)):\n",
        "  z_new[i] = f_new[i] - y[i]\n",
        "plt.plot(x, z_new, color='orange', marker ='o', markersize=6, linestyle ='', label='')\n",
        "plt.legend()"
      ],
      "execution_count": 857,
      "outputs": [
        {
          "output_type": "stream",
          "text": [
            "No handles with labels found to put in legend.\n"
          ],
          "name": "stderr"
        },
        {
          "output_type": "execute_result",
          "data": {
            "text/plain": [
              "<matplotlib.legend.Legend at 0x7fd49ff606d8>"
            ]
          },
          "metadata": {
            "tags": []
          },
          "execution_count": 857
        },
        {
          "output_type": "display_data",
          "data": {
            "image/png": "[encoded data removed]",
            "text/plain": [
              "<Figure size 864x576 with 1 Axes>"
            ]
          },
          "metadata": {
            "tags": []
          }
        }
      ]
    },
    {
      "cell_type": "code",
      "metadata": {
        "id": "xvvJgWLjhT6j",
        "colab_type": "code",
        "colab": {}
      },
      "source": [
        ""
      ],
      "execution_count": 0,
      "outputs": []
    }
  ]
}